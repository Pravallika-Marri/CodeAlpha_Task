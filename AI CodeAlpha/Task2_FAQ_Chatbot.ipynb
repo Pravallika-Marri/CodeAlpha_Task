{
  "nbformat": 4,
  "nbformat_minor": 0,
  "metadata": {
    "colab": {
      "provenance": []
    },
    "kernelspec": {
      "name": "python3",
      "display_name": "Python 3"
    },
    "language_info": {
      "name": "python"
    }
  },
  "cells": [
    {
      "cell_type": "code",
      "source": [
        "from sklearn.feature_extraction.text import TfidfVectorizer\n",
        "from sklearn.metrics.pairwise import cosine_similarity\n",
        "\n",
        "# Step 1: Define FAQs\n",
        "faq_data = {\n",
        "    \"How do I reset my password?\": \"Click on 'Forgot Password' at the login screen.\",\n",
        "    \"How can I contact customer support?\": \"You can email support@example.com or call 1800-123-456.\",\n",
        "    \"Where can I view my orders?\": \"Go to 'My Account' > 'My Orders'.\",\n",
        "    \"How do I cancel an order?\": \"You can cancel it under 'My Orders' before it's shipped.\",\n",
        "    \"What payment methods are accepted?\": \"We accept credit/debit cards, UPI, and PayPal.\"\n",
        "}\n",
        "\n",
        "questions = list(faq_data.keys())\n",
        "answers = list(faq_data.values())\n",
        "\n",
        "# Step 2: Prepare TF-IDF Model\n",
        "vectorizer = TfidfVectorizer()\n",
        "X = vectorizer.fit_transform(questions)\n",
        "\n",
        "# Step 3: Ask a Question\n",
        "user_question = input(\"Ask your question: \")\n",
        "user_vec = vectorizer.transform([user_question])\n",
        "\n",
        "# Step 4: Find Best Match\n",
        "similarities = cosine_similarity(user_vec, X)\n",
        "best_index = similarities.argmax()\n",
        "best_match = questions[best_index]\n",
        "best_answer = answers[best_index]\n",
        "\n",
        "# Step 5: Show Response\n",
        "print(\"\\nMatched FAQ:\", best_match)\n",
        "print(\"Chatbot Answer:\", best_answer)"
      ],
      "metadata": {
        "colab": {
          "base_uri": "https://localhost:8080/"
        },
        "id": "PHXbLFKX5nQh",
        "outputId": "6cd3ae48-1217-4909-adfe-5f8c8a5d9d33"
      },
      "execution_count": 7,
      "outputs": [
        {
          "output_type": "stream",
          "name": "stdout",
          "text": [
            "Ask your question: What payment methods are accepted\n",
            "\n",
            "Matched FAQ: What payment methods are accepted?\n",
            "Chatbot Answer: We accept credit/debit cards, UPI, and PayPal.\n"
          ]
        }
      ]
    }
  ]
}